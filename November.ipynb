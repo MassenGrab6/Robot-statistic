{
 "cells": [
  {
   "cell_type": "code",
   "execution_count": null,
   "metadata": {},
   "outputs": [],
   "source": []
  }
 ],
 "metadata": {
  "kernelspec": {
   "display_name": "Python 3",
   "language": "python",
   "name": "python3"
  },
  "language_info": {
   "name": "python",
   "version": "3.11.2"
  },
  "orig_nbformat": 4,
  "vscode": {
   "interpreter": {
    "hash": "7733902301c7ccc71bbe5746ddb48d55d1651389cc10dd4b96dce37a5ec5fb46"
   }
  }
 },
 "nbformat": 4,
 "nbformat_minor": 2
}
