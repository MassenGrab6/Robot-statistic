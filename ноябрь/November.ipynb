{
 "cells": [
  {
   "cell_type": "code",
   "execution_count": 2,
   "metadata": {},
   "outputs": [],
   "source": [
    "import pandas as pd\n",
    "ad_november_data = pd.read_csv('AnalysisTaskAd_20230328-20230328_cCBKCUO7JeHt3FkozvqeWbga.csv')"
   ]
  },
  {
   "cell_type": "code",
   "execution_count": 3,
   "metadata": {},
   "outputs": [
    {
     "data": {
      "text/plain": [
       "['Time',\n",
       " 'Store name',\n",
       " 'Product name',\n",
       " 'PID',\n",
       " 'robotMAC',\n",
       " 'Activated on',\n",
       " 'unbound',\n",
       " 'Small screen play time(h)',\n",
       " 'Number of small screen plays',\n",
       " 'Large screen play time(h)',\n",
       " 'Number of large screen plays']"
      ]
     },
     "metadata": {},
     "output_type": "display_data"
    }
   ],
   "source": [
    "display(list(ad_november_data.columns))"
   ]
  },
  {
   "cell_type": "code",
   "execution_count": null,
   "metadata": {},
   "outputs": [],
   "source": []
  }
 ],
 "metadata": {
  "kernelspec": {
   "display_name": "Python 3",
   "language": "python",
   "name": "python3"
  },
  "language_info": {
   "codemirror_mode": {
    "name": "ipython",
    "version": 3
   },
   "file_extension": ".py",
   "mimetype": "text/x-python",
   "name": "python",
   "nbconvert_exporter": "python",
   "pygments_lexer": "ipython3",
   "version": "3.11.2"
  },
  "orig_nbformat": 4,
  "vscode": {
   "interpreter": {
    "hash": "7733902301c7ccc71bbe5746ddb48d55d1651389cc10dd4b96dce37a5ec5fb46"
   }
  }
 },
 "nbformat": 4,
 "nbformat_minor": 2
}
